{
  "nbformat": 4,
  "nbformat_minor": 0,
  "metadata": {
    "colab": {
      "name": "NLP1.ipynb",
      "provenance": [],
      "collapsed_sections": []
    },
    "kernelspec": {
      "name": "python3",
      "display_name": "Python 3"
    },
    "language_info": {
      "name": "python"
    }
  },
  "cells": [
    {
      "cell_type": "markdown",
      "source": [
        "6Q)Find (term * Doc) matrix using TF-IDF? And find cosine similarity between DOC 1 and DOC 2? DCO 1: A computer network is a set of computers sharing resources located on or provided by network nodes. The computers use common communication protocols over digital interconnections to communicate with each other. DOC 2: An operating system (OS) is system software that manages computer hardware, software resources, and provides common services for computer programs. Time-sharing operating systems schedule tasks for efficient use of the system and may also include accounting software for cost allocation of processor time, mass storage, printing, and other resources. DOC 3: An operating system (OS) is the program that, after being initially loaded into the computer by a boot program, manages all of the other application programs in a computer. The application programs make use of the operating system by making requests for services through a defined application program interface (API)."
      ],
      "metadata": {
        "id": "mJnZJSMf9FLE"
      }
    },
    {
      "cell_type": "code",
      "execution_count": 1,
      "metadata": {
        "id": "PTf6Jlhx9DYg"
      },
      "outputs": [],
      "source": [
        "Docs123 = ['A computer network is a set of computers sharing resources located on or provided by network nodes. The computers use common communication protocols over digital interconnections to communicate with each other.',\n",
        "'An operating system (OS) is system software that manages computer hardware, software resources, and provides common services for computer programs. Time-sharing operating systems schedule tasks for efficient use of the system and may also include accounting software for cost allocation of processor time, mass storage, printing, and other resources.',\n",
        "'An operating system (OS) is the program that, after being initially loaded into the computer by a boot program, manages all of the other application programs in a computer. The application programs make use of the operating system by making requests for services through a defined application program interface (API).']\n",
        "\n",
        "Docs12 = ['A computer network is a set of computers sharing resources located on or provided by network nodes. The computers use common communication protocols over digital interconnections to communicate with each other.',\n",
        "'An operating system (OS) is system software that manages computer hardware, software resources, and provides common services for computer programs. Time-sharing operating systems schedule tasks for efficient use of the system and may also include accounting software for cost allocation of processor time, mass storage, printing, and other resources.']"
      ]
    },
    {
      "cell_type": "code",
      "source": [
        "from sklearn.feature_extraction.text import TfidfVectorizer\n",
        "from sklearn.metrics.pairwise import cosine_similarity\n",
        "\n",
        "\n",
        "tfidf_vectorizer = TfidfVectorizer()\n",
        "\n",
        "# Generate the tf-idf vectors for the Documents 1, 2 & 3, print the shape of the matrix and their cosine similarities\n",
        "tfidf_matrix123 = tfidf_vectorizer.fit_transform(Docs123)\n",
        "print(\"TF-IDF Matrix Shape for DOC 1, 2 & 3 : \", tfidf_matrix123.shape)\n",
        "cosine_sim123 = cosine_similarity(tfidf_matrix123, tfidf_matrix123)\n",
        "print(\"Cosine Similarity Matrix Between Documents 1, 2 & 3 : \")\n",
        "print(cosine_sim123,end=\"\\n\\n\")\n",
        "\n",
        "# Generate the tf-idf vectors for the Documents 1 & 2, print the shape of the matrix and their cosine similarities\n",
        "tfidf_matrix12 = tfidf_vectorizer.fit_transform(Docs12)\n",
        "print(\"TF-IDF Matrix Shape for DOC 1 & 2 : \", tfidf_matrix12.shape)\n",
        "cosine_sim12 = cosine_similarity(tfidf_matrix12, tfidf_matrix12)\n",
        "print(\"Cosine Similarity Matrix Between Documents 1 & 2 : \")\n",
        "print(cosine_sim12)"
      ],
      "metadata": {
        "colab": {
          "base_uri": "https://localhost:8080/"
        },
        "id": "GtE4aITN9joy",
        "outputId": "0bd1cdb0-19fc-4105-e7a0-42c6909093fa"
      },
      "execution_count": 2,
      "outputs": [
        {
          "output_type": "stream",
          "name": "stdout",
          "text": [
            "TF-IDF Matrix Shape for DOC 1, 2 & 3 :  (3, 72)\n",
            "Cosine Similarity Matrix Between Documents 1, 2 & 3 : \n",
            "[[1.         0.12397288 0.13367998]\n",
            " [0.12397288 1.         0.28562751]\n",
            " [0.13367998 0.28562751 1.        ]]\n",
            "\n",
            "TF-IDF Matrix Shape for DOC 1 & 2 :  (2, 55)\n",
            "Cosine Similarity Matrix Between Documents 1 & 2 : \n",
            "[[1.         0.13117019]\n",
            " [0.13117019 1.        ]]\n"
          ]
        }
      ]
    }
  ]
}